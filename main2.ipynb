{
 "cells": [
  {
   "cell_type": "code",
   "execution_count": null,
   "metadata": {},
   "outputs": [],
   "source": []
  },
  {
   "attachments": {},
   "cell_type": "markdown",
   "metadata": {},
   "source": [
    "1. Reading the data\n",
    "2. Exploratory Data Analysis\n",
    "    1. Target Variable Distrubution (check if its inbalanced)\n",
    "    2. Distribution of features\n",
    "    3. Missing values of features\n",
    "    4. Correlation of features\n",
    "    5. Description of the data (df.describe())\n",
    "    6. Outlier detection (remove nonsensical data / boxplots) / (create a function to remove outliers)\n",
    "    7. Check distinct values in features / check ordinal values\n",
    "3. Feature Engineering\n",
    "    1. Missing value imputation (mode, median, mean, k-NN, SMOTE etc.)\n",
    "    2. Create new features using arithmetical transformations of existing features.\n",
    "    3. PCA \n",
    "    4. Try few models to decide feature importances to reduce features. (target shuffling)\n",
    "    5. Add new features using outside data sources.\n",
    "    6. Train, Test, Validation split (use validation for hyperparameter tuning)\n",
    "4. Modeling (find important features using models, then return to feature engineering)\n",
    "    1. Linear Regression (remove multicolonarity, then check coefficient of features to determine their importance) (correlation matrix 85%>)\n",
    "    2. Decision Tree\n",
    "    3. Random Forest (entropy)\n",
    "    4. XGBoost\n",
    "    5. LightGBM\n",
    "    6. Neural Network\n",
    "    7. Ensemble Learning\n",
    "5. Hyperparameter Tuning\n",
    "    1. Grid Search\n",
    "    2. Bayesean Search\n",
    "\n",
    "\n",
    "    "
   ]
  }
 ],
 "metadata": {
  "kernelspec": {
   "display_name": "Python 3 (ipykernel)",
   "language": "python",
   "name": "python3"
  },
  "orig_nbformat": 4,
  "vscode": {
   "interpreter": {
    "hash": "916dbcbb3f70747c44a77c7bcd40155683ae19c65e1c03b4aa3499c5328201f1"
   }
  }
 },
 "nbformat": 4,
 "nbformat_minor": 2
}
